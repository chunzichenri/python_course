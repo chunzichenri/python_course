{
 "cells": [
  {
   "cell_type": "code",
   "execution_count": 1,
   "metadata": {},
   "outputs": [],
   "source": [
    "from math import sqrt\n",
    "def pathlength(x,y):\n",
    "    L = 0\n",
    "    for i in range(1, len(x)):      # i的取值不能从0开始，因此得从range（1， len（））\n",
    "        M = (x[i]-x[i-1])**2 + (y[i]-y[i-1])**2\n",
    "        L += sqrt(M)\n",
    "    return L"
   ]
  },
  {
   "cell_type": "code",
   "execution_count": null,
   "metadata": {},
   "outputs": [],
   "source": [
    "# 集合的括号为方括号//主程序\n",
    "x = [1, 2, 1, 1]\n",
    "y = [1, 1, 2, 1]\n",
    "print(pathlength(x,y))"
   ]
  },
  {
   "cell_type": "code",
   "execution_count": 22,
   "metadata": {},
   "outputs": [
    {
     "name": "stdout",
     "output_type": "stream",
     "text": [
      "3.414213562373095\n"
     ]
    }
   ],
   "source": [
    "L = pathlength(x,y)\n",
    "print(L)"
   ]
  },
  {
   "cell_type": "code",
   "execution_count": 24,
   "metadata": {},
   "outputs": [],
   "source": [
    "from math import sqrt\n",
    "def pathlength(n):\n",
    "    L = 0 \n",
    "    for i in range(1, len(x)):\n",
    "        L += sqrt((n[i][0] - n[i-1][0])**2+(n[i][1] - n[i-1][1])**2)\n",
    "    return L    "
   ]
  },
  {
   "cell_type": "code",
   "execution_count": 26,
   "metadata": {},
   "outputs": [
    {
     "name": "stdout",
     "output_type": "stream",
     "text": [
      "3.414213562373095\n"
     ]
    }
   ],
   "source": [
    "n = [(1,1), (2,1), (1,2), (1,1)]\n",
    "L = pathlength(n)\n",
    "print(L)"
   ]
  },
  {
   "cell_type": "code",
   "execution_count": null,
   "metadata": {},
   "outputs": [],
   "source": [
    "from math import sqrt\n",
    "def pathlength(x,y):\n",
    "    L = 0\n",
    "    if len(x) != len(y) or len(x) < 2:   #不等号  ！=\n",
    "        print('you are wrong!!')\n",
    "        return   False            # if 命令里边，return在命令里边\n",
    "    elif len(x) == len(y):\n",
    "        for i in range(1, len(x)):    # i的取值不能从0开始，因此得从range（1， len（））\n",
    "            M = (x[i]-x[i-1])**2 + (y[i]-y[i-1])**2\n",
    "            L += sqrt(M) \n",
    "        return L"
   ]
  },
  {
   "cell_type": "code",
   "execution_count": 51,
   "metadata": {},
   "outputs": [
    {
     "name": "stdout",
     "output_type": "stream",
     "text": [
      "you are wrong!!\n",
      "False\n"
     ]
    }
   ],
   "source": [
    " x = [1, 2, 1, 1]\n",
    " y = [1, 1, 2, 1, 3]\n",
    "print(pathlength(x,y))"
   ]
  },
  {
   "cell_type": "code",
   "execution_count": 40,
   "metadata": {},
   "outputs": [
    {
     "name": "stdout",
     "output_type": "stream",
     "text": [
      "you are wrong!!\n",
      "None\n"
     ]
    }
   ],
   "source": [
    "x = [1 ]\n",
    "y = [1 ]\n",
    "print(pathlength(x,y))"
   ]
  },
  {
   "cell_type": "code",
   "execution_count": 41,
   "metadata": {},
   "outputs": [
    {
     "name": "stdout",
     "output_type": "stream",
     "text": [
      "you are wrong!!\n",
      "None\n"
     ]
    }
   ],
   "source": [
    "x = [1, 2]\n",
    "y = [1]\n",
    "print(pathlength(x,y))"
   ]
  },
  {
   "cell_type": "code",
   "execution_count": 42,
   "metadata": {},
   "outputs": [
    {
     "name": "stdout",
     "output_type": "stream",
     "text": [
      "3.414213562373095\n"
     ]
    }
   ],
   "source": [
    "x = [1, 2, 1, 1]\n",
    "y = [1, 1, 2, 1]\n",
    "print(pathlength(x,y))"
   ]
  },
  {
   "cell_type": "code",
   "execution_count": null,
   "metadata": {},
   "outputs": [],
   "source": []
  }
 ],
 "metadata": {
  "kernelspec": {
   "display_name": "Python 3",
   "language": "python",
   "name": "python3"
  },
  "language_info": {
   "codemirror_mode": {
    "name": "ipython",
    "version": 3
   },
   "file_extension": ".py",
   "mimetype": "text/x-python",
   "name": "python",
   "nbconvert_exporter": "python",
   "pygments_lexer": "ipython3",
   "version": "3.5.2"
  }
 },
 "nbformat": 4,
 "nbformat_minor": 2
}
