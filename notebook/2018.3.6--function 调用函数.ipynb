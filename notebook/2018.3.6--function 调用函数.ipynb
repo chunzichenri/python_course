{
 "cells": [
  {
   "cell_type": "code",
   "execution_count": 1,
   "metadata": {},
   "outputs": [
    {
     "name": "stdout",
     "output_type": "stream",
     "text": [
      "0 times sqrt and **2: 2.0000000000000000\n",
      "1 times sqrt and **2: 2.0000000000000004\n",
      "2 times sqrt and **2: 1.9999999999999996\n",
      "3 times sqrt and **2: 1.9999999999999996\n",
      "4 times sqrt and **2: 1.9999999999999964\n",
      "5 times sqrt and **2: 1.9999999999999964\n",
      "6 times sqrt and **2: 1.9999999999999964\n",
      "7 times sqrt and **2: 1.9999999999999714\n",
      "8 times sqrt and **2: 2.0000000000000235\n",
      "9 times sqrt and **2: 2.0000000000000235\n",
      "10 times sqrt and **2: 2.0000000000000235\n",
      "11 times sqrt and **2: 2.0000000000000235\n",
      "12 times sqrt and **2: 1.9999999999991336\n",
      "13 times sqrt and **2: 1.9999999999973292\n",
      "14 times sqrt and **2: 1.9999999999973292\n",
      "15 times sqrt and **2: 1.9999999999973292\n",
      "16 times sqrt and **2: 2.0000000000117746\n",
      "17 times sqrt and **2: 2.0000000000408580\n",
      "18 times sqrt and **2: 2.0000000000408580\n",
      "19 times sqrt and **2: 2.0000000001573586\n",
      "20 times sqrt and **2: 2.0000000001573586\n",
      "21 times sqrt and **2: 2.0000000001573586\n",
      "22 times sqrt and **2: 2.0000000010885857\n",
      "23 times sqrt and **2: 2.0000000029511749\n",
      "24 times sqrt and **2: 2.0000000066771721\n",
      "25 times sqrt and **2: 2.0000000066771721\n",
      "26 times sqrt and **2: 1.9999999917775542\n",
      "27 times sqrt and **2: 1.9999999917775542\n",
      "28 times sqrt and **2: 1.9999999917775542\n",
      "29 times sqrt and **2: 1.9999999917775542\n",
      "30 times sqrt and **2: 1.9999999917775542\n",
      "31 times sqrt and **2: 1.9999999917775542\n",
      "32 times sqrt and **2: 1.9999990380770896\n",
      "33 times sqrt and **2: 1.9999971307544144\n",
      "34 times sqrt and **2: 1.9999971307544144\n",
      "35 times sqrt and **2: 1.9999971307544144\n",
      "36 times sqrt and **2: 1.9999971307544144\n",
      "37 times sqrt and **2: 1.9999971307544144\n",
      "38 times sqrt and **2: 1.9999360966436217\n",
      "39 times sqrt and **2: 1.9999360966436217\n",
      "40 times sqrt and **2: 1.9999360966436217\n",
      "41 times sqrt and **2: 1.9994478907329654\n",
      "42 times sqrt and **2: 1.9984718365144798\n",
      "43 times sqrt and **2: 1.9965211562778555\n",
      "44 times sqrt and **2: 1.9965211562778555\n",
      "45 times sqrt and **2: 1.9887374575497223\n",
      "46 times sqrt and **2: 1.9887374575497223\n",
      "47 times sqrt and **2: 1.9887374575497223\n",
      "48 times sqrt and **2: 1.9887374575497223\n",
      "49 times sqrt and **2: 1.8682459487159784\n",
      "50 times sqrt and **2: 1.6487212645509468\n",
      "51 times sqrt and **2: 1.6487212645509468\n",
      "52 times sqrt and **2: 1.0000000000000000\n",
      "53 times sqrt and **2: 1.0000000000000000\n",
      "54 times sqrt and **2: 1.0000000000000000\n",
      "55 times sqrt and **2: 1.0000000000000000\n",
      "56 times sqrt and **2: 1.0000000000000000\n",
      "57 times sqrt and **2: 1.0000000000000000\n",
      "58 times sqrt and **2: 1.0000000000000000\n",
      "59 times sqrt and **2: 1.0000000000000000\n"
     ]
    }
   ],
   "source": [
    "# sqrt 截断误差，测试语言的准确性\n",
    "from math import sqrt  #开方\n",
    "for n in range(60):\n",
    "    r = 2.0  #\n",
    "    for i in range(n): # i意味着循环多少次\n",
    "        r = sqrt(r)\n",
    "    for i in range(n):\n",
    "        r = r**2\n",
    "    print('%d times sqrt and **2: %.16f' % (n,r))    \n",
    "        "
   ]
  },
  {
   "cell_type": "code",
   "execution_count": 3,
   "metadata": {},
   "outputs": [],
   "source": [
    "# def 命令之后的空格一定要够，否则不能运行\n",
    "def F(C):\n",
    "    F = (9.0/5)*C + 32\n",
    "    return F"
   ]
  },
  {
   "cell_type": "code",
   "execution_count": 7,
   "metadata": {},
   "outputs": [
    {
     "name": "stdout",
     "output_type": "stream",
     "text": [
      "<function F at 0xb45bd074>\n"
     ]
    }
   ],
   "source": [
    "C = 5\n",
    "print(F)"
   ]
  },
  {
   "cell_type": "code",
   "execution_count": 23,
   "metadata": {},
   "outputs": [],
   "source": [
    "a = 20\n",
    "b = -2.5\n",
    "def f1(x):\n",
    "    a = 21\n",
    "    return a*x + b"
   ]
  },
  {
   "cell_type": "code",
   "execution_count": 11,
   "metadata": {},
   "outputs": [
    {
     "name": "stdout",
     "output_type": "stream",
     "text": [
      "20\n"
     ]
    }
   ],
   "source": [
    "print(a)"
   ]
  },
  {
   "cell_type": "code",
   "execution_count": 15,
   "metadata": {},
   "outputs": [],
   "source": [
    "def f2(x):\n",
    "    global a \n",
    "    a = 21\n",
    "    return a*x + b"
   ]
  },
  {
   "cell_type": "code",
   "execution_count": 16,
   "metadata": {},
   "outputs": [
    {
     "name": "stdout",
     "output_type": "stream",
     "text": [
      "20\n"
     ]
    }
   ],
   "source": [
    "f1(3); print(a)"
   ]
  },
  {
   "cell_type": "code",
   "execution_count": 17,
   "metadata": {},
   "outputs": [
    {
     "name": "stdout",
     "output_type": "stream",
     "text": [
      "21\n"
     ]
    }
   ],
   "source": [
    "f2(3); print(a)"
   ]
  },
  {
   "cell_type": "markdown",
   "metadata": {},
   "source": [
    "# error\n",
    "f1(3); print(a);\n",
    "f2(3); print(a)"
   ]
  },
  {
   "cell_type": "code",
   "execution_count": 25,
   "metadata": {},
   "outputs": [],
   "source": [
    "def yfunc(t, v0):\n",
    "    g = 9.81\n",
    "    return v0*t - 0.5*g*t**2"
   ]
  },
  {
   "cell_type": "code",
   "execution_count": 27,
   "metadata": {},
   "outputs": [
    {
     "name": "stdout",
     "output_type": "stream",
     "text": [
      "-17.4\n"
     ]
    }
   ],
   "source": [
    "y = yfunc(0.1, 6)\n",
    "print(y)"
   ]
  },
  {
   "cell_type": "code",
   "execution_count": 25,
   "metadata": {},
   "outputs": [],
   "source": [
    "def makelist(start, stop, inc):\n",
    "    value = start\n",
    "    result = []\n",
    "    while value <= stop:\n",
    "        result.append(value)\n",
    "        value = value + inc\n",
    "    return result    "
   ]
  },
  {
   "cell_type": "markdown",
   "metadata": {},
   "source": [
    "# (start, stop, inc)等同于range命令，生成非整数差的等差数列\n",
    "mylist = makelist(0, 100, 0.2)\n",
    "print(mylist)"
   ]
  },
  {
   "cell_type": "code",
   "execution_count": 31,
   "metadata": {},
   "outputs": [],
   "source": [
    "# 定义函数\n",
    "def yfunc(t, v0):\n",
    "    g = 9.81\n",
    "    y = v0*t - 0.5*g*t**2\n",
    "    dydt = v0 - g*t\n",
    "    return (y, dydt) # 调用函数，最后返回的结果"
   ]
  },
  {
   "cell_type": "code",
   "execution_count": 33,
   "metadata": {},
   "outputs": [
    {
     "name": "stdout",
     "output_type": "stream",
     "text": [
      "0.034199999999999786 -2.886\n"
     ]
    }
   ],
   "source": [
    "position, velocity = yfunc(0.6, 3)\n",
    "print(position, velocity)"
   ]
  },
  {
   "cell_type": "markdown",
   "metadata": {},
   "source": [
    "# 多级展开\n",
    "def L2(x, epsilon=1.0E-6):\n",
    "    x = float(x)  # \n",
    "    i = 1\n",
    "    term = (1.0/i)*(x/(1+x))**i\n",
    "    s = term\n",
    "    while abs(term) > epsilon:  #误差值\n",
    "        i += 1\n",
    "        term = (1.0/i)*(x/(1+x))**i\n",
    "        s += term\n",
    "    return s, i    # 返回s， i\n",
    "    "
   ]
  },
  {
   "cell_type": "code",
   "execution_count": 44,
   "metadata": {},
   "outputs": [
    {
     "name": "stdout",
     "output_type": "stream",
     "text": [
      "epsilon: 1e-04, exact error: 8.18e-04, n=55\n",
      "epsilon: 1e-06, exact error: 9.02e-06, n=97\n",
      "epsilon: 1e-08, exact error: 8.70e-08, n=142\n",
      "epsilon: 1e-10, exact error: 9.20e-10, n=187\n",
      "epsilon: 1e-12, exact error: 9.31e-12, n=233\n"
     ]
    }
   ],
   "source": [
    "from math import log\n",
    "x = 10\n",
    "for k in range(4, 14, 2):\n",
    "    epsilon = 10**(-k)\n",
    "    approx, n = L2(x, epsilon= epsilon)\n",
    "    exact = log(1+x)\n",
    "    exact_error = exact - approx\n",
    "    print('epsilon: %5.0e, exact error: %8.2e, n=%d' % (epsilon, exact_error, n))"
   ]
  },
  {
   "cell_type": "code",
   "execution_count": 47,
   "metadata": {},
   "outputs": [
    {
     "name": "stdout",
     "output_type": "stream",
     "text": [
      "0.5\n"
     ]
    }
   ],
   "source": [
    "print(1/2)"
   ]
  },
  {
   "cell_type": "code",
   "execution_count": null,
   "metadata": {},
   "outputs": [],
   "source": [
    "def area(vertices):    #定义一个函数\n",
    "    x1 = vertices[0][0]\n",
    "    x2 = vertices[1][0]\n",
    "    x3 = vertices[2][0]\n",
    "    y1 = vertices[0][1]\n",
    "    y2 = vertices[1][1]\n",
    "    y3 = vertices[2][1]\n",
    "    a = 0.5*(x2*y3 - x3*y2 - x1*y3 + x3*y1 + x1*y2 - x2*y1)\n",
    "    return a   #返回值"
   ]
  },
  {
   "cell_type": "code",
   "execution_count": 78,
   "metadata": {},
   "outputs": [
    {
     "name": "stdout",
     "output_type": "stream",
     "text": [
      "1.0\n"
     ]
    }
   ],
   "source": [
    "vertices = [[0,0], [1, 0], [0,2]]\n",
    "print(area(vertices))"
   ]
  },
  {
   "cell_type": "code",
   "execution_count": 83,
   "metadata": {},
   "outputs": [],
   "source": [
    "def area(vertices):\n",
    "    area = 0.5*(vertices[1][0]*vertices[2][1] - vertices[2][0]*vertices[1][1] - vertices[0][0]*vertices[2][1] + vertices[2][0]*vertices[0][1] + vertices[0][0]*vertices[1][1] - vertices[1][0]*vertices[0][1])\n",
    "    return area"
   ]
  },
  {
   "cell_type": "code",
   "execution_count": 84,
   "metadata": {},
   "outputs": [
    {
     "name": "stdout",
     "output_type": "stream",
     "text": [
      "1.0\n"
     ]
    }
   ],
   "source": [
    "vertices = [[0,0], [1, 0], [0,2]]\n",
    "print(area(vertices))"
   ]
  },
  {
   "cell_type": "code",
   "execution_count": null,
   "metadata": {},
   "outputs": [],
   "source": []
  }
 ],
 "metadata": {
  "kernelspec": {
   "display_name": "Python 3",
   "language": "python",
   "name": "python3"
  },
  "language_info": {
   "codemirror_mode": {
    "name": "ipython",
    "version": 3
   },
   "file_extension": ".py",
   "mimetype": "text/x-python",
   "name": "python",
   "nbconvert_exporter": "python",
   "pygments_lexer": "ipython3",
   "version": "3.5.2"
  }
 },
 "nbformat": 4,
 "nbformat_minor": 2
}
