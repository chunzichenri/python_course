{
 "cells": [
  {
   "cell_type": "code",
   "execution_count": 7,
   "metadata": {},
   "outputs": [
    {
     "name": "stdout",
     "output_type": "stream",
     "text": [
      "1157.6250000000002\n"
     ]
    }
   ],
   "source": [
    "p = 0.05\n",
    "n = 3\n",
    "a = 1000 # euros\n",
    "y = a*(1 + p)**n\n",
    "print(y)"
   ]
  },
  {
   "cell_type": "code",
   "execution_count": 2,
   "metadata": {},
   "outputs": [
    {
     "name": "stdout",
     "output_type": "stream",
     "text": [
      "At m= 47.00 g, the t is   134.67\n"
     ]
    }
   ],
   "source": [
    "from math import pi \n",
    "from math import log as ln\n",
    "m = 47 # g\n",
    "p  = 1.038 #g.cm-3\n",
    "c  = 3.7 #J.g-1.K-1\n",
    "k  = 5.4*0.001 #W.cm-1.K-1\n",
    "tw = 100 # C\n",
    "ty = 70  # C\n",
    "t0 = 4\n",
    "t = (m**(2/3)*c*p**(1/3))/(k*pi**2*(4*pi/3**(2/3)))*ln(0.76*(t0-tw)/(ty-tw))\n",
    "print('At m=%6.2f g, the t is %8.2f' %(m, t))"
   ]
  },
  {
   "cell_type": "code",
   "execution_count": 3,
   "metadata": {},
   "outputs": [
    {
     "name": "stdout",
     "output_type": "stream",
     "text": [
      "At m=67.00 g, the t is   135.58\n"
     ]
    }
   ],
   "source": [
    "# 一个\n",
    "from math import pi \n",
    "from math import log as ln\n",
    "m = 67 # g\n",
    "p  = 1.038 #g.cm-3\n",
    "c  = 3.7 #J.g-1.K-1\n",
    "k  = 5.4*0.001 #W.cm-1.K-1\n",
    "tw = 100 # C\n",
    "ty = 70  # C\n",
    "t0 = 20\n",
    "t = (m**(2/3)*c*p**(1/3))/(k*pi**2*(4*pi/3**(2/3)))*ln(0.76*(t0-tw)/(ty-tw))\n",
    "print('At m=%2.2f g, the t is %8.2f' %(m, t))"
   ]
  },
  {
   "cell_type": "code",
   "execution_count": null,
   "metadata": {},
   "outputs": [],
   "source": [
    "# error\n",
    "from math import pi \n",
    "from math import log as ln\n",
    "m1 = 47 # g\n",
    "m2 = 67\n",
    "p  = 1.038 #g.cm-3\n",
    "c  = 3.7 #J.g-1.K-1\n",
    "k  = 5.4*0.001 #W.cm-1.K-1\n",
    "tw = 100 # C\n",
    "ty = 70  # C\n",
    "t1 = 4\n",
    "t2 = 20\n",
    "t1 = (m1**(2/3)*c*p**(1/3))/(k*pi**2*(4*pi/3**(2/3)))*ln(0.76*(t1-tw)/(ty-tw))\n",
    "t2 = (m2**(2/3)*c*p**(1/3))/(k*pi**2*(4*pi/3**(2/3)))*ln(0.76*(t2-tw)/(ty-tw))\n",
    "print('At m1=%2.2f g, m2=%2.2f g, the t1, t2 is %8.2f' %(m1, t1,) %(m2, t2)) error!!---不能分开输出结果，但是可以分行输出"
   ]
  },
  {
   "cell_type": "code",
   "execution_count": 5,
   "metadata": {},
   "outputs": [
    {
     "ename": "SyntaxError",
     "evalue": "invalid syntax (<ipython-input-5-236a8e76ab95>, line 6)",
     "output_type": "error",
     "traceback": [
      "\u001b[0;36m  File \u001b[0;32m\"<ipython-input-5-236a8e76ab95>\"\u001b[0;36m, line \u001b[0;32m6\u001b[0m\n\u001b[0;31m    {f = (9.0/5)*c + 32\u001b[0m\n\u001b[0m       ^\u001b[0m\n\u001b[0;31mSyntaxError\u001b[0m\u001b[0;31m:\u001b[0m invalid syntax\n"
     ]
    }
   ],
   "source": [
    "# if\n",
    "print('----------')\n",
    "c = -20\n",
    "dc = 5\n",
    "while c <=40:\n",
    "    f = (9.0/5)*c + 32\n",
    "    print(c,f)\n",
    "    c = c + dc\n",
    "print('----------')\n",
    "#calculate the F\n",
    "#相当于进行循环计算，缩进字符保持一致，且，缩进字符内的都是循环过程，之外的不循环"
   ]
  },
  {
   "cell_type": "markdown",
   "metadata": {},
   "source": [
    "# if\n",
    "#判断数据大小\n",
    "x = 0 \n",
    "y = 1.2 \n",
    "print(x >= 0 and y < 1)\n",
    "print(not (x > 0 or y > 0))"
   ]
  },
  {
   "cell_type": "code",
   "execution_count": 22,
   "metadata": {},
   "outputs": [
    {
     "name": "stdout",
     "output_type": "stream",
     "text": [
      "[1, 2, 3, 4, 5, 1, 2, 3, 4, 5]\n"
     ]
    }
   ],
   "source": [
    "c = [1,2,3,4,5]\n",
    "c = c*2\n",
    "print(c)"
   ]
  },
  {
   "cell_type": "code",
   "execution_count": 24,
   "metadata": {},
   "outputs": [
    {
     "name": "stdout",
     "output_type": "stream",
     "text": [
      "[1, 2, -15, 3, 4, 5]\n"
     ]
    }
   ],
   "source": [
    "c = [1,2,3,4,5]\n",
    "c.insert(2,-15)\n",
    "print(c)"
   ]
  },
  {
   "cell_type": "code",
   "execution_count": 8,
   "metadata": {},
   "outputs": [
    {
     "name": "stdout",
     "output_type": "stream",
     "text": [
      "[2, 3]\n",
      "[1, 2, 3]\n",
      "5\n"
     ]
    }
   ],
   "source": [
    "# LIST\n",
    "##用法\n",
    "c = [1,2,3,4,5]\n",
    "print(c[1:3]) #输出序号0，1号元素，不包括第二个\n",
    "print(c[:3])  #输出从头到3，不包括3号元素\n",
    "print(c[-1])  #输出倒数第一个元素\n",
    "c.insert(2,-15) #插入元素\n",
    "c = c*2       #扩容2倍"
   ]
  },
  {
   "cell_type": "code",
   "execution_count": 31,
   "metadata": {},
   "outputs": [
    {
     "name": "stdout",
     "output_type": "stream",
     "text": [
      "At m1=47.00 g, m2=134.67 g, the t1 is     67.00, t2 is   135.58\n"
     ]
    }
   ],
   "source": [
    "from math import pi \n",
    "from math import log as ln\n",
    "m1 = 47 # g\n",
    "m2 = 67\n",
    "p  = 1.038 #g.cm-3\n",
    "c  = 3.7 #J.g-1.K-1\n",
    "k  = 5.4*10**(-3) #W.cm-1.K-1\n",
    "tw = 100 # C\n",
    "ty = 70  # C\n",
    "t1 = 4\n",
    "t2 = 20\n",
    "t1 = (m1**(2/3)*c*p**(1/3))/(k*pi**2*(4*pi/3**(2/3)))*ln(0.76*(t1-tw)/(ty-tw))\n",
    "t2 = (m2**(2/3)*c*p**(1/3))/(k*pi**2*(4*pi/3**(2/3)))*ln(0.76*(t2-tw)/(ty-tw))\n",
    "print('At m1=%2.2f g, m2=%2.2f g, the t1 is  %8.2f, t2 is %8.2f' %(m1, t1, m2, t2))"
   ]
  },
  {
   "cell_type": "code",
   "execution_count": 1,
   "metadata": {},
   "outputs": [
    {
     "name": "stdout",
     "output_type": "stream",
     "text": [
      "1157.6250000000002\n"
     ]
    }
   ],
   "source": [
    "p = 0.05\n",
    "n = 3\n",
    "a = 1000 # euros\n",
    "y = a*(1 + p)**n\n",
    "print(y)"
   ]
  },
  {
   "cell_type": "code",
   "execution_count": null,
   "metadata": {},
   "outputs": [],
   "source": []
  }
 ],
 "metadata": {
  "kernelspec": {
   "display_name": "Python 3",
   "language": "python",
   "name": "python3"
  },
  "language_info": {
   "codemirror_mode": {
    "name": "ipython",
    "version": 3
   },
   "file_extension": ".py",
   "mimetype": "text/x-python",
   "name": "python",
   "nbconvert_exporter": "python",
   "pygments_lexer": "ipython3",
   "version": "3.5.2"
  }
 },
 "nbformat": 4,
 "nbformat_minor": 2
}
