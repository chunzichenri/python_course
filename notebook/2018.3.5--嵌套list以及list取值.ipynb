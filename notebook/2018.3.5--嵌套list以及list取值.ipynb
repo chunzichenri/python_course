{
 "cells": [
  {
   "cell_type": "code",
   "execution_count": 5,
   "metadata": {},
   "outputs": [
    {
     "name": "stdout",
     "output_type": "stream",
     "text": [
      "5.187377517639621\n"
     ]
    }
   ],
   "source": [
    "s = 0 \n",
    "k = 1\n",
    "M = 100\n",
    "while k <= M:\n",
    "    s += 1/k\n",
    "    k = k + 1\n",
    "print(s)"
   ]
  },
  {
   "cell_type": "code",
   "execution_count": null,
   "metadata": {},
   "outputs": [],
   "source": [
    "# error\n",
    "division by zero\n",
    "不能被零除\n",
    "s = 0\n",
    "k = 1\n",
    "c = range(1,101,1)\n",
    "for k in c:\n",
    "    s += 1/k\n",
    "    k = k + 1\n",
    "print(s)    "
   ]
  },
  {
   "cell_type": "code",
   "execution_count": null,
   "metadata": {},
   "outputs": [],
   "source": [
    "## nest list\n",
    "嵌套的list\n",
    "在list内部使用for循环生成一个list\n",
    "在python3里，range命令只能生成range，需要外加list命令生成list\n",
    "cd = list(range(-20,41,5))\n",
    "f = [(9.0/5)*c + 32 for c in cd]\n",
    "table = [cd,f]\n",
    "print(table)"
   ]
  },
  {
   "cell_type": "code",
   "execution_count": null,
   "metadata": {},
   "outputs": [],
   "source": [
    "##\n",
    "循环套循环\n",
    "p对应内部的长度（意味着参与的个数）\n",
    "g\n",
    "scores = []\n",
    "scores.append([12,16,11,12])\n",
    "scores.append([9])\n",
    "scores.append([6,9,11,14,17,15,14,20])\n",
    "for p in range(len(scores)):\n",
    "    for g in range(len(scores[p])):\n",
    "        score = scores[p][g]\n",
    "        print('%4d'%score)\n",
    "    print() #输出空行   "
   ]
  },
  {
   "cell_type": "code",
   "execution_count": null,
   "metadata": {},
   "outputs": [],
   "source": [
    "##\n",
    "直接取出元素，而并不倒出序列，更加简单\n",
    "for p in scores:\n",
    "    for g in p:\n",
    "        print('%4d'% g)\n",
    "    print()    "
   ]
  },
  {
   "cell_type": "code",
   "execution_count": 28,
   "metadata": {},
   "outputs": [
    {
     "name": "stdout",
     "output_type": "stream",
     "text": [
      "a\n"
     ]
    }
   ],
   "source": [
    "q = [['a', 'b', 'c'], ['d', 'e', 'f'], ['g', 'h']]\n",
    "print(q[0][0])\n"
   ]
  },
  {
   "cell_type": "code",
   "execution_count": 23,
   "metadata": {
    "scrolled": true
   },
   "outputs": [
    {
     "name": "stdout",
     "output_type": "stream",
     "text": [
      "['d', 'e', 'f']\n"
     ]
    }
   ],
   "source": [
    "print(q[1])"
   ]
  },
  {
   "cell_type": "code",
   "execution_count": 27,
   "metadata": {
    "scrolled": true
   },
   "outputs": [
    {
     "name": "stdout",
     "output_type": "stream",
     "text": [
      "h\n"
     ]
    }
   ],
   "source": [
    "print(q[-1][-1])"
   ]
  },
  {
   "cell_type": "code",
   "execution_count": 1,
   "metadata": {},
   "outputs": [
    {
     "name": "stdout",
     "output_type": "stream",
     "text": [
      "[1, 2, 3]\n",
      "[1, 2, 3]\n"
     ]
    }
   ],
   "source": [
    "# copy b \n",
    "#复制元素之后，要想使得两个集合独立，可将a集合的元素全部取出复制给b，这样两者就没有关系\n",
    "a = [1,2,]\n",
    "b = a\n",
    "b.append(3)\n",
    "print(b)\n",
    "print(a)"
   ]
  },
  {
   "cell_type": "code",
   "execution_count": 31,
   "metadata": {},
   "outputs": [
    {
     "name": "stdout",
     "output_type": "stream",
     "text": [
      "[1, 2, 3]\n",
      "[1, 2]\n"
     ]
    }
   ],
   "source": [
    "a = [1,2,]\n",
    "b = a[:]\n",
    "b.append(3)\n",
    "print(b)\n",
    "print(a)"
   ]
  },
  {
   "cell_type": "code",
   "execution_count": 34,
   "metadata": {},
   "outputs": [
    {
     "name": "stdout",
     "output_type": "stream",
     "text": [
      "[1, 100, 10000, 1000000, 100000000]\n"
     ]
    }
   ],
   "source": [
    "q = [r**2 for r in [10**i for i in range(5)]]\n",
    "print(q)"
   ]
  },
  {
   "cell_type": "code",
   "execution_count": 38,
   "metadata": {},
   "outputs": [
    {
     "name": "stdout",
     "output_type": "stream",
     "text": [
      "[1, 100, 10000, 1000000, 100000000]\n"
     ]
    }
   ],
   "source": [
    "q = []\n",
    "a = list(range(5))\n",
    "for i in a:\n",
    "    r = 10**i\n",
    "    m = r**2\n",
    "    q.append(m)\n",
    "print(q)        "
   ]
  },
  {
   "cell_type": "code",
   "execution_count": 2,
   "metadata": {},
   "outputs": [
    {
     "data": {
      "text/plain": [
       "True"
      ]
     },
     "execution_count": 2,
     "metadata": {},
     "output_type": "execute_result"
    }
   ],
   "source": [
    "##\n",
    "# 逻辑用语\n",
    "# false = 0 ; true = 1\n",
    "False == 0"
   ]
  },
  {
   "cell_type": "code",
   "execution_count": null,
   "metadata": {},
   "outputs": [],
   "source": []
  }
 ],
 "metadata": {
  "kernelspec": {
   "display_name": "Python 3",
   "language": "python",
   "name": "python3"
  },
  "language_info": {
   "codemirror_mode": {
    "name": "ipython",
    "version": 3
   },
   "file_extension": ".py",
   "mimetype": "text/x-python",
   "name": "python",
   "nbconvert_exporter": "python",
   "pygments_lexer": "ipython3",
   "version": "3.5.2"
  }
 },
 "nbformat": 4,
 "nbformat_minor": 2
}
